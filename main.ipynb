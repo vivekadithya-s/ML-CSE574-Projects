{
 "cells": [
  {
   "cell_type": "code",
   "execution_count": 55,
   "metadata": {},
   "outputs": [],
   "source": [
    "import pickle\n",
    "import gzip\n",
    "from matplotlib import pyplot as plt\n",
    "\n",
    "import numpy as np"
   ]
  },
  {
   "cell_type": "code",
   "execution_count": 56,
   "metadata": {},
   "outputs": [],
   "source": [
    "filename = 'mnist.pkl.gz'\n",
    "f = gzip.open(filename, 'rb')\n",
    "training_data, validation_data, testing_data = pickle.load(f, encoding='latin1')\n",
    "f.close()"
   ]
  },
  {
   "cell_type": "markdown",
   "metadata": {},
   "source": [
    "# MNIST Preprocessing"
   ]
  },
  {
   "cell_type": "code",
   "execution_count": 57,
   "metadata": {},
   "outputs": [
    {
     "name": "stdout",
     "output_type": "stream",
     "text": [
      "Training image shape: (60000, 784)\n",
      "Training target shape: (60000,)\n",
      "\n",
      "Validation image shape: (10000, 784)\n",
      "Validation target shape: (10000,)\n",
      "\n",
      "Testing image shape: (10000, 784)\n",
      "Testing target shape: (10000,)\n"
     ]
    }
   ],
   "source": [
    "\n",
    "training_image = np.array(training_data[0])\n",
    "training_target = np.array(training_data[1])\n",
    "validation_image = np.array(validation_data[0])\n",
    "validation_target = np.array(validation_data[1])\n",
    "training_image=np.concatenate((training_image, validation_image), axis=0)\n",
    "training_target=np.concatenate((training_target, validation_target), axis=0)\n",
    "testing_image = np.array(testing_data[0])\n",
    "testing_target = np.array(testing_data[1])\n",
    "\n",
    "#training_image.flatten()\n",
    "print(\"Training image shape: \"+str(training_image.shape))\n",
    "print(\"Training target shape: \"+str(training_target.shape))\n",
    "print()\n",
    "print(\"Validation image shape: \"+str(validation_image.shape))\n",
    "print(\"Validation target shape: \"+str(validation_target.shape))\n",
    "print()\n",
    "\n",
    "print(\"Testing image shape: \"+str(testing_image.shape))\n",
    "print(\"Testing target shape: \"+str(testing_target.shape))\n",
    "\n",
    "\n"
   ]
  },
  {
   "cell_type": "markdown",
   "metadata": {},
   "source": [
    "# USPS Data Preprocessing"
   ]
  },
  {
   "cell_type": "code",
   "execution_count": 106,
   "metadata": {},
   "outputs": [
    {
     "name": "stdout",
     "output_type": "stream",
     "text": [
      "USPS Preprocessing done\n",
      "\n",
      "\n",
      "\n"
     ]
    }
   ],
   "source": [
    "from PIL import Image\n",
    "import os\n",
    "import numpy as np\n",
    "\n",
    "USPSMat  = []\n",
    "USPSTar  = []\n",
    "curPath  = 'USPSdata/Numerals'\n",
    "savedImg = []\n",
    "\n",
    "for j in range(0,10):\n",
    "    curFolderPath = curPath + '/' + str(j)\n",
    "    imgs =  os.listdir(curFolderPath)\n",
    "    for img in imgs:\n",
    "        curImg = curFolderPath + '/' + img\n",
    "        if curImg[-3:] == 'png':\n",
    "            img = Image.open(curImg,'r')\n",
    "            img = img.resize((28, 28))\n",
    "            savedImg = img\n",
    "            imgdata = (255-np.array(img.getdata()))\n",
    "            USPSMat.append(imgdata)\n",
    "            USPSTar.append(j)\n",
    "\n",
    "USPS_image_np = np.asarray(USPSMat)\n",
    "USPS_tar_np = np.asarray(USPSTar)\n",
    "usps_testing_target_hot_vector2 = np.copy(USPS_tar_np)\n",
    "usps_testing_target_hot_vector = []\n",
    "for val in usps_testing_target_hot_vector2:\n",
    "    usps_testing_target_hot_vector.append(listed[val])\n",
    "usps_testing_target_hot_vector_np = np.copy(usps_testing_target_hot_vector)\n",
    "print(\"USPS Preprocessing done\")\n",
    "print()\n",
    "print()\n",
    "print()"
   ]
  },
  {
   "cell_type": "code",
   "execution_count": 58,
   "metadata": {},
   "outputs": [],
   "source": [
    "listed = [[1, 0, 0, 0, 0, 0, 0, 0, 0, 0],\n",
    "        [0, 1, 0, 0, 0, 0, 0, 0, 0, 0],\n",
    "        [0, 0, 1, 0, 0, 0, 0, 0, 0, 0],\n",
    "        [0, 0, 0, 1, 0, 0, 0, 0, 0, 0],\n",
    "        [0, 0, 0, 0, 1, 0, 0, 0, 0, 0],\n",
    "        [0, 0, 0, 0, 0, 1, 0, 0, 0, 0],\n",
    "        [0, 0, 0, 0, 0, 0, 1, 0, 0, 0],\n",
    "        [0, 0, 0, 0, 0, 0, 0, 1, 0, 0],\n",
    "        [0, 0, 0, 0, 0, 0, 0, 0, 1, 0],\n",
    "        [0, 0, 0, 0, 0, 0, 0, 0, 0, 1]]"
   ]
  },
  {
   "cell_type": "markdown",
   "metadata": {},
   "source": [
    "## Training Target one-hot vectorization\n"
   ]
  },
  {
   "cell_type": "code",
   "execution_count": 59,
   "metadata": {},
   "outputs": [
    {
     "name": "stdout",
     "output_type": "stream",
     "text": [
      "Done\n"
     ]
    }
   ],
   "source": [
    "training_target_hot_vector2 = np.copy(training_target)\n",
    "training_target_hot_vector = []\n",
    "for val in training_target_hot_vector2:\n",
    "    training_target_hot_vector.append(listed[val])\n",
    "training_target_hot_vector_np = np.copy(training_target_hot_vector)\n",
    "print(\"Done\")"
   ]
  },
  {
   "cell_type": "markdown",
   "metadata": {},
   "source": [
    "## Testing Target one-hot vectorization"
   ]
  },
  {
   "cell_type": "code",
   "execution_count": 60,
   "metadata": {},
   "outputs": [
    {
     "name": "stdout",
     "output_type": "stream",
     "text": [
      "Done\n"
     ]
    }
   ],
   "source": [
    "testing_target_hot_vector2 = np.copy(testing_target)\n",
    "testing_target_hot_vector = []\n",
    "for val in testing_target_hot_vector2:\n",
    "    testing_target_hot_vector.append(listed[val])\n",
    "testing_target_hot_vector_np = np.copy(testing_target_hot_vector)\n",
    "print(\"Done\")"
   ]
  },
  {
   "cell_type": "code",
   "execution_count": 61,
   "metadata": {},
   "outputs": [],
   "source": [
    "def logistic_regression(features, target, num_steps):\n",
    "    \n",
    "    weights = []\n",
    "    \n",
    "    scores = np.zeros((10))\n",
    "    ypreds = np.zeros((10))\n",
    "    \n",
    "    for i in range(10):\n",
    "        weightval = np.zeros(features.shape[1])\n",
    "        weights.append(weightval)\n",
    "    \n",
    "\n",
    "    for step in range(num_steps):\n",
    "        \n",
    "        feature_current = features[step % 50000]\n",
    "        target_current = target[step % 50000]\n",
    "        #feature_current = features\n",
    "        #target_current = target\n",
    "\n",
    "        sum = 0\n",
    "        for targnum in range(10):\n",
    "            bias = 0\n",
    "            #print(weights[targnum].T.shape)\n",
    "            #print(feature_current.shape)\n",
    "            #print(scores[targnum].shape)\n",
    "            \n",
    "            scores[targnum] = np.dot(weights[targnum].T, feature_current) + bias            \n",
    "            sum = sum + np.exp(scores[targnum])\n",
    "            \n",
    "        for targnum in range(10):\n",
    "            ypreds[targnum] = (np.exp(scores[targnum])) / (sum)\n",
    "\n",
    "        \n",
    "        lr = 0.001\n",
    "        for targnum in range(10):\n",
    "            \n",
    "            val = (ypreds[targnum] - target_current[targnum]) * feature_current\n",
    "\n",
    "            \n",
    "            weights[targnum] = weights[targnum] - (lr * val)\n",
    "        \n",
    "    print(\"Logistic Regression weights generated.\")\n",
    "    return weights"
   ]
  },
  {
   "cell_type": "code",
   "execution_count": 62,
   "metadata": {},
   "outputs": [
    {
     "name": "stdout",
     "output_type": "stream",
     "text": [
      "Please wait for 1-3 mins\n",
      "Logistic Regression weights generated.\n",
      "Done\n"
     ]
    }
   ],
   "source": [
    "#weights = logistic_regression(simulated_separableish_features, simulated_labels,\n",
    "                     #num_steps = 50000, learning_rate = 5e-5, add_intercept=True)\n",
    "print(\"Please wait for 1-3 mins\")\n",
    "weights = logistic_regression(training_image, training_target_hot_vector_np,\n",
    "                     num_steps = 300000)\n",
    "\n",
    "print(\"Done\")"
   ]
  },
  {
   "cell_type": "markdown",
   "metadata": {},
   "source": [
    "## Logistic Regression Target Prediction"
   ]
  },
  {
   "cell_type": "code",
   "execution_count": 63,
   "metadata": {},
   "outputs": [],
   "source": [
    "#Prediction\n",
    "def logistic_prediction(features, target, weights):\n",
    "    #weights = []\n",
    "    num_steps=len(target)\n",
    "    scores=np.zeros((10))\n",
    "    ypreds=np.zeros((10))\n",
    "    \n",
    "    for i in range(10):\n",
    "        weightval = np.zeros(features.shape[1])\n",
    "        weights.append(weightval)\n",
    "\n",
    "    tot=0\n",
    "    correct=0\n",
    "    wrong=0\n",
    "    confusion_matrix=np.zeros((10,10))\n",
    "    log_reg_pred =[]\n",
    "\n",
    "    for step in range(num_steps):\n",
    "        feature_current = features[step]\n",
    "        target_current = target[step]        \n",
    "        sum=0\n",
    "        \n",
    "        for targnum in range(10):\n",
    "            bias=0.0\n",
    "            scores[targnum] = np.dot(weights[targnum].T, feature_current)+bias            \n",
    "            sum=sum+np.exp(scores[targnum])\n",
    "\n",
    "        for targnum in range(10):\n",
    "            ypreds[targnum]=(np.exp(scores[targnum]))/(sum)\n",
    "        \n",
    "        \n",
    "        maxargg = np.argmax(ypreds)\n",
    "        log_reg_pred.append(maxargg)                \n",
    "        targmaxargg = np.argmax(target_current)        \n",
    "        if(maxargg==targmaxargg):\n",
    "            correct=correct+1\n",
    "        else:\n",
    "            wrong=wrong+1\n",
    "                 \n",
    "        tot=tot+1        \n",
    "        confusion_matrix[maxargg][targmaxargg]+=1\n",
    "        \n",
    "    np.set_printoptions(precision=0, suppress=True)\n",
    "    print(\"Vivek Adithya Srinivasa Raghavan\")\n",
    "    print(\"Logistic Regression Accuracy :\")\n",
    "    print(\"Total count:\"+str(tot))\n",
    "    print(\"Correct count:\"+str(correct))\n",
    "    print(\"Wrong count:\"+str(wrong))\n",
    "    print(\"Accuracy :\"+str((correct/tot)*100)+\" %\")\n",
    "    print(\"Confusion Matrix : \")\n",
    "    print(\"Top X axis is ideal expected output label(target)\")\n",
    "    print(\"Left Y axis is actual predicted output label\")    \n",
    "    print(confusion_matrix)\n",
    "    print()\n",
    "    print()\n",
    "    print()\n",
    "    return log_reg_pred"
   ]
  },
  {
   "cell_type": "markdown",
   "metadata": {},
   "source": [
    "# Logistic Regression Prediction and results for MNIST"
   ]
  },
  {
   "cell_type": "code",
   "execution_count": 64,
   "metadata": {},
   "outputs": [
    {
     "name": "stdout",
     "output_type": "stream",
     "text": [
      "Vivek Adithya Srinivasa Raghavan\n",
      "Logistic Regression Accuracy :\n",
      "Total count:10000\n",
      "Correct count:9168\n",
      "Wrong count:832\n",
      "Accuracy :91.67999999999999 %\n",
      "Confusion Matrix : \n",
      "Top X axis is ideal expected output label(target)\n",
      "Left Y axis is actual predicted output label\n",
      "[[ 955.    0.    5.    3.    1.   11.   10.    1.    6.    9.]\n",
      " [   0. 1109.    8.    0.    3.    4.    3.   11.   10.    7.]\n",
      " [   1.    2.  915.   23.    4.    5.    3.   22.    7.    3.]\n",
      " [   2.    2.   15.  921.    1.   45.    2.    9.   30.   11.]\n",
      " [   0.    0.   13.    0.  903.    8.   11.    6.    8.   32.]\n",
      " [   6.    2.    4.   26.    0.  760.   12.    0.   30.   11.]\n",
      " [  10.    4.   14.    2.   11.   12.  913.    0.   12.    0.]\n",
      " [   1.    2.   13.   10.    2.    8.    1.  940.   13.   25.]\n",
      " [   5.   14.   37.   15.    8.   30.    3.    3.  846.    5.]\n",
      " [   0.    0.    8.   10.   49.    9.    0.   36.   12.  906.]]\n",
      "\n",
      "\n",
      "\n"
     ]
    }
   ],
   "source": [
    "log_reg_pred = logistic_prediction(testing_image, testing_target_hot_vector_np, weights)"
   ]
  },
  {
   "cell_type": "markdown",
   "metadata": {},
   "source": [
    "# Logistic Regression prediction results using USPS Data"
   ]
  },
  {
   "cell_type": "code",
   "execution_count": 65,
   "metadata": {},
   "outputs": [
    {
     "name": "stderr",
     "output_type": "stream",
     "text": [
      "/anaconda3/lib/python3.6/site-packages/ipykernel_launcher.py:29: RuntimeWarning: invalid value encountered in double_scalars\n"
     ]
    },
    {
     "name": "stdout",
     "output_type": "stream",
     "text": [
      "Vivek Adithya Srinivasa Raghavan\n",
      "Logistic Regression Accuracy :\n",
      "Total count:19999\n",
      "Correct count:5968\n",
      "Wrong count:14031\n",
      "Accuracy :29.84149207460373 %\n",
      "Confusion Matrix : \n",
      "Top X axis is ideal expected output label(target)\n",
      "Left Y axis is actual predicted output label\n",
      "[[ 833.  223.  411.  254.   98.  329.  667.  276.  377.   81.]\n",
      " [   6.  393.   75.    9.  109.   35.   17.  279.   43.  242.]\n",
      " [ 312.  231. 1187.  437.   73.  362.  690.  421.  290.  234.]\n",
      " [  40.  398.   96. 1101.  160.  345.   72.  497.  303.  648.]\n",
      " [ 299.  361.   42.   10. 1059.   84.  116.   64.  140.  188.]\n",
      " [ 127.   72.   70.  123.  140.  754.  141.   87.  514.  129.]\n",
      " [  11.   20.   26.    4.   24.   24.  237.   15.   62.   11.]\n",
      " [  76.  146.   42.   27.   96.   41.   16.  166.   40.  230.]\n",
      " [ 166.  151.   30.   28.  207.   16.   18.  162.  187.  186.]\n",
      " [ 130.    5.   20.    7.   34.   10.   26.   33.   44.   51.]]\n",
      "\n",
      "\n",
      "\n"
     ]
    }
   ],
   "source": [
    "usps_log_reg_pred = logistic_prediction(USPS_image_np, usps_testing_target_hot_vector_np, weights)"
   ]
  },
  {
   "cell_type": "markdown",
   "metadata": {},
   "source": [
    "# SVM and Random Forests"
   ]
  },
  {
   "cell_type": "code",
   "execution_count": 12,
   "metadata": {},
   "outputs": [
    {
     "name": "stdout",
     "output_type": "stream",
     "text": [
      "Done\n"
     ]
    }
   ],
   "source": [
    "import numpy as np\n",
    "from sklearn.svm import SVC\n",
    "from sklearn.ensemble import RandomForestClassifier\n",
    "#from sklearn.datasets import fetch_mldata\n",
    "'''mnist = fetch_mldata('MNIST original')\n",
    "n_train = 60000\n",
    "n_test = 10000\n",
    "indices = np.arange(len(mnist.data))\n",
    "train_idx = np.arange(0,n_train)\n",
    "test_idx = np.arange(n_train, n_train+n_test)\n",
    "X_train, y_train = mnist.data[train_idx], mnist.target[train_idx]\n",
    "X_test, y_test = mnist.data[test_idx], mnist.target[test_idx]'''\n",
    "print(\"Done\")"
   ]
  },
  {
   "cell_type": "markdown",
   "metadata": {},
   "source": [
    "# SVM for MNIST"
   ]
  },
  {
   "cell_type": "markdown",
   "metadata": {},
   "source": [
    "### SVM Accuracy and confusion matrix"
   ]
  },
  {
   "cell_type": "code",
   "execution_count": 15,
   "metadata": {},
   "outputs": [],
   "source": [
    "def svm_predictor(svm_1_3_pred, testing_target=testing_target):\n",
    "    wrong=0\n",
    "    correct=0\n",
    "    tot=0\n",
    "    svm_confusion_matrix=np.zeros((10,10))\n",
    "    for val, tar in zip(svm_1_3_pred,testing_target):\n",
    "        #print(\"Pred : \"+str(val)+\" Actual : \"+str(tar))\n",
    "        tot+=1\n",
    "        svm_confusion_matrix[int(val)][int(tar)]+=1\n",
    "        if (val==tar):\n",
    "            correct+=1\n",
    "        else:\n",
    "            wrong+=1\n",
    "    print(\"Total count:\"+str(tot))\n",
    "    print(\"Correct count:\"+str(correct))\n",
    "    print(\"Wrong count:\"+str(wrong))\n",
    "    print(\"Accuracy :\"+str((correct/tot)*100)+\" %\")        \n",
    "    np.set_printoptions(precision=0, suppress=True)    \n",
    "    print(svm_confusion_matrix)"
   ]
  },
  {
   "cell_type": "markdown",
   "metadata": {},
   "source": [
    "### 1.  For Gamma=0.05 and rbf as kernel"
   ]
  },
  {
   "cell_type": "code",
   "execution_count": 127,
   "metadata": {},
   "outputs": [
    {
     "name": "stdout",
     "output_type": "stream",
     "text": [
      "Start\n",
      " SVM Fitting for Gamma=0.05 and rbf as kernel COMPLETED.\n"
     ]
    }
   ],
   "source": [
    "print(\"Start\")\n",
    "classifier1_1 = SVC(kernel='rbf', gamma = 0.05)\n",
    "classifier1_1.fit(training_image, training_target)\n",
    "print(\" SVM Fitting for Gamma=0.05 and rbf as kernel COMPLETED.\")\n"
   ]
  },
  {
   "cell_type": "code",
   "execution_count": 128,
   "metadata": {},
   "outputs": [
    {
     "name": "stdout",
     "output_type": "stream",
     "text": [
      "Total count:10000\n",
      "Correct count:9826\n",
      "Wrong count:174\n",
      "Accuracy :98.26 %\n",
      "[[ 972.    0.    4.    0.    0.    2.    4.    0.    2.    3.]\n",
      " [   0. 1126.    0.    0.    0.    0.    2.    3.    0.    3.]\n",
      " [   1.    3. 1014.    2.    3.    0.    0.   10.    1.    2.]\n",
      " [   0.    1.    0.  996.    0.    6.    0.    1.    4.    7.]\n",
      " [   0.    0.    1.    0.  965.    1.    2.    1.    0.   10.]\n",
      " [   2.    1.    0.    2.    0.  877.    3.    0.    3.    2.]\n",
      " [   2.    1.    0.    0.    4.    2.  946.    0.    0.    1.]\n",
      " [   1.    1.    6.    6.    0.    1.    0. 1003.    3.    6.]\n",
      " [   2.    2.    7.    4.    2.    2.    1.    2.  958.    6.]\n",
      " [   0.    0.    0.    0.    8.    1.    0.    8.    3.  969.]]\n",
      "done\n"
     ]
    }
   ],
   "source": [
    "svm_1_1_pred= classifier1_1.predict(testing_image)\n",
    "svm_predictor(svm_1_1_pred)\n",
    "print(\"done\")"
   ]
  },
  {
   "cell_type": "markdown",
   "metadata": {},
   "source": [
    "### 2.  For Gamma as default and rbf as kernel"
   ]
  },
  {
   "cell_type": "code",
   "execution_count": 125,
   "metadata": {},
   "outputs": [
    {
     "name": "stdout",
     "output_type": "stream",
     "text": [
      "SVM Fitting for Gamma as default and rbf as kernel COMPLETED.\n"
     ]
    }
   ],
   "source": [
    "classifier1_2 = SVC(kernel='rbf')\n",
    "classifier1_2.fit(training_image, training_target)\n",
    "print(\"SVM Fitting for Gamma as default and rbf as kernel COMPLETED.\")"
   ]
  },
  {
   "cell_type": "code",
   "execution_count": 126,
   "metadata": {},
   "outputs": [
    {
     "name": "stdout",
     "output_type": "stream",
     "text": [
      "Total count:10000\n",
      "Correct count:9443\n",
      "Wrong count:557\n",
      "Accuracy :94.43 %\n",
      "[[ 967.    0.    9.    1.    1.    7.    9.    2.    4.    8.]\n",
      " [   0. 1121.    1.    1.    1.    4.    3.   13.    7.    7.]\n",
      " [   2.    2.  961.   15.    7.    5.    4.   22.    7.    0.]\n",
      " [   0.    2.    9.  951.    0.   32.    1.    5.   14.   12.]\n",
      " [   0.    0.   10.    1.  938.    7.    5.    8.    8.   31.]\n",
      " [   5.    1.    1.   15.    0.  808.    9.    1.   23.    6.]\n",
      " [   4.    4.   13.    1.    7.   12.  926.    0.   10.    1.]\n",
      " [   1.    1.    9.   10.    2.    2.    0.  955.    6.   13.]\n",
      " [   1.    4.   17.   11.    2.   10.    1.    3.  892.    7.]\n",
      " [   0.    0.    2.    4.   24.    5.    0.   19.    3.  924.]]\n",
      "done\n"
     ]
    }
   ],
   "source": [
    "svm_1_2_pred= classifier1_2.predict(testing_image)\n",
    "svm_predictor(svm_1_2_pred)\n",
    "print(\"done\")"
   ]
  },
  {
   "cell_type": "markdown",
   "metadata": {},
   "source": [
    "### 3.  For Gamma as default and Linear kernel"
   ]
  },
  {
   "cell_type": "code",
   "execution_count": 13,
   "metadata": {},
   "outputs": [
    {
     "name": "stdout",
     "output_type": "stream",
     "text": [
      "SVM Fitting for Gamma as default and Linear kernel COMPLETED.\n"
     ]
    }
   ],
   "source": [
    "classifier1_3 = SVC(kernel='linear')\n",
    "classifier1_3.fit(training_image, training_target)\n",
    "print(\"SVM Fitting for Gamma as default and Linear kernel COMPLETED.\")"
   ]
  },
  {
   "cell_type": "code",
   "execution_count": 16,
   "metadata": {},
   "outputs": [
    {
     "name": "stdout",
     "output_type": "stream",
     "text": [
      "Total count:10000\n",
      "Correct count:9403\n",
      "Wrong count:597\n",
      "Accuracy :94.03 %\n",
      "[[ 957.    0.    8.    4.    1.   10.    9.    1.    8.    7.]\n",
      " [   0. 1122.    6.    3.    1.    4.    2.    8.    4.    7.]\n",
      " [   4.    3.  967.   16.   10.    3.   13.   21.    6.    2.]\n",
      " [   1.    2.   11.  947.    1.   36.    1.   10.   25.   11.]\n",
      " [   1.    0.    3.    1.  942.    6.    6.    8.    7.   33.]\n",
      " [   6.    1.    3.   15.    2.  803.   16.    1.   26.    4.]\n",
      " [   9.    2.    7.    0.    4.   13.  909.    0.    6.    0.]\n",
      " [   1.    1.    8.    9.    2.    1.    1.  957.    7.   18.]\n",
      " [   0.    4.   17.   13.    3.   14.    1.    3.  877.    5.]\n",
      " [   1.    0.    2.    2.   16.    2.    0.   19.    8.  922.]]\n",
      "done\n"
     ]
    }
   ],
   "source": [
    "svm_1_3_pred= classifier1_3.predict(testing_image)\n",
    "svm_predictor(svm_1_3_pred)\n",
    "print(\"done\")"
   ]
  },
  {
   "cell_type": "markdown",
   "metadata": {},
   "source": [
    "## SVM for USPS Data"
   ]
  },
  {
   "cell_type": "markdown",
   "metadata": {},
   "source": [
    "### Linear Kernel and Default Gamma"
   ]
  },
  {
   "cell_type": "code",
   "execution_count": 24,
   "metadata": {},
   "outputs": [
    {
     "name": "stdout",
     "output_type": "stream",
     "text": [
      "Total count:19999\n",
      "Correct count:5885\n",
      "Wrong count:14114\n",
      "Accuracy :29.42647132356618 %\n",
      "[[ 556.  115.  237.   99.   64.  110.  251.   94.  227.   26.]\n",
      " [   1.  171.   24.   28.    6.    8.    5.   26.    2.   18.]\n",
      " [ 406.  520. 1181.  307.  200.  642.  805.  123.  242.  153.]\n",
      " [ 221.  339.  185. 1079.  148.  380.  107.  771.  611.  717.]\n",
      " [ 138.  297.   34.    8.  791.   39.   46.   42.   89.  106.]\n",
      " [ 157.   94.  130.  321.  103.  542.  130.   92.  313.   30.]\n",
      " [  88.   34.   95.   11.   16.   40.  591.   13.   83.    6.]\n",
      " [ 125.  203.   14.   17.  302.   19.   13.  448.   41.  420.]\n",
      " [  50.  193.   87.  115.  263.  190.   13.  348.  349.  347.]\n",
      " [ 258.   34.   12.   15.  107.   30.   39.   43.   43.  177.]]\n",
      "done\n"
     ]
    }
   ],
   "source": [
    "usps_svm_1_3_pred= classifier1_3.predict(USPS_image_np)\n",
    "svm_predictor(usps_svm_1_3_pred, USPS_tar_np )\n",
    "print(\"done\")"
   ]
  },
  {
   "cell_type": "code",
   "execution_count": null,
   "metadata": {},
   "outputs": [],
   "source": []
  },
  {
   "cell_type": "markdown",
   "metadata": {},
   "source": [
    "# Random Forests"
   ]
  },
  {
   "cell_type": "code",
   "execution_count": 34,
   "metadata": {},
   "outputs": [
    {
     "name": "stdout",
     "output_type": "stream",
     "text": [
      "Done\n"
     ]
    }
   ],
   "source": [
    "import numpy as np\n",
    "from sklearn.svm import SVC\n",
    "from sklearn.ensemble import RandomForestClassifier\n",
    "'''from sklearn.datasets import fetch_mldata\n",
    "mnist = fetch_mldata('MNIST original')\n",
    "n_train = 60000\n",
    "n_test = 10000\n",
    "indices = np.arange(len(mnist.data))\n",
    "train_idx = np.arange(0,n_train)\n",
    "test_idx = np.arange(n_train, n_train+n_test)\n",
    "X_train, y_train = mnist.data[train_idx], mnist.target[train_idx]\n",
    "X_test, y_test = mnist.data[test_idx], mnist.target[test_idx]'''\n",
    "print(\"Done\")\n"
   ]
  },
  {
   "cell_type": "code",
   "execution_count": 35,
   "metadata": {},
   "outputs": [
    {
     "name": "stdout",
     "output_type": "stream",
     "text": [
      "Done\n"
     ]
    }
   ],
   "source": [
    "print(\"Please wait for 4 mins, generating Random Forest model with 200 trees\")\n",
    "classifier2 = RandomForestClassifier(n_estimators=200)\n",
    "classifier2.fit(training_image, training_target)\n",
    "print(\"Done\")"
   ]
  },
  {
   "cell_type": "markdown",
   "metadata": {},
   "source": [
    "## MNIST Random Forests Results"
   ]
  },
  {
   "cell_type": "code",
   "execution_count": 37,
   "metadata": {},
   "outputs": [
    {
     "name": "stdout",
     "output_type": "stream",
     "text": [
      "Random Forests Result\n",
      "Total count:10000\n",
      "Correct count:9701\n",
      "Wrong count:299\n",
      "Accuracy :97.00999999999999 %\n",
      "[[ 970.    0.    6.    1.    1.    2.    5.    2.    4.    6.]\n",
      " [   1. 1123.    0.    0.    0.    0.    3.    2.    0.    5.]\n",
      " [   0.    3.  999.   10.    2.    0.    1.   18.    6.    1.]\n",
      " [   0.    3.    6.  969.    0.   10.    0.    1.   10.   10.]\n",
      " [   0.    0.    3.    0.  952.    2.    4.    1.    4.    8.]\n",
      " [   3.    2.    0.    9.    0.  863.    4.    0.    4.    3.]\n",
      " [   3.    2.    4.    0.    4.    5.  937.    0.    3.    1.]\n",
      " [   1.    0.    8.    9.    0.    2.    0.  992.    3.    4.]\n",
      " [   2.    1.    6.    9.    3.    5.    4.    3.  930.    5.]\n",
      " [   0.    1.    0.    3.   20.    3.    0.    9.   10.  966.]]\n"
     ]
    }
   ],
   "source": [
    "RF_preds = classifier2.predict(testing_image)\n",
    "#usps_RF_preds = classifier2.predict(USPS_image_np)\n",
    "\n",
    "\n",
    "def rf_predictor(RF_preds, testing_target=testing_target):\n",
    "    wrong=0\n",
    "    correct=0\n",
    "    tot=0\n",
    "    rf_confusion_matrix=np.zeros((10,10))\n",
    "\n",
    "\n",
    "    for ele, tar in zip(RF_preds[:10000], testing_target[:10000]):\n",
    "        tot+=1\n",
    "        #print(\"Predicted: \"+str(ele)+\"  \"+\"Actual: \"+str(tar))\n",
    "        #print(int(ele))\n",
    "        rf_confusion_matrix[int(ele)][int(tar)]+=1\n",
    "        if (ele==tar):\n",
    "            correct+=1\n",
    "        else:\n",
    "            wrong+=1\n",
    "    #for row in rf_confusion_matrix:\n",
    "        '''for col in row:\n",
    "            col=int(col)'''\n",
    "    print(\"Random Forests Result\")\n",
    "    print(\"Total count:\"+str(tot))\n",
    "    print(\"Correct count:\"+str(correct))\n",
    "    print(\"Wrong count:\"+str(wrong))\n",
    "    print(\"Accuracy :\"+str((correct/tot)*100)+\" %\")        \n",
    "    np.set_printoptions(precision=0, suppress=True)\n",
    "    #rf_confusion_matrix.astype(int)\n",
    "    print(rf_confusion_matrix)\n",
    "    \n",
    "rf_predictor(RF_preds)\n",
    "#rf_predictor(usps_RF_preds, USPS_tar_np)"
   ]
  },
  {
   "cell_type": "markdown",
   "metadata": {},
   "source": [
    "## USPS Random Forests results"
   ]
  },
  {
   "cell_type": "code",
   "execution_count": 44,
   "metadata": {},
   "outputs": [
    {
     "name": "stdout",
     "output_type": "stream",
     "text": [
      "Random Forests Result\n",
      "Total count:10000\n",
      "Correct count:4820\n",
      "Wrong count:5180\n",
      "Accuracy :48.199999999999996 %\n",
      "[[ 637.   46.   88.   32.   15.    0.    0.    0.    0.    0.]\n",
      " [  11.  562.   31.    7.  200.    0.    0.    0.    0.    0.]\n",
      " [ 286.  132. 1270.   97.   49.    0.    0.    0.    0.    0.]\n",
      " [  57.  117.   87. 1274.   32.    0.    0.    0.    0.    0.]\n",
      " [ 415.   52.   49.   57. 1076.    0.    0.    0.    0.    0.]\n",
      " [ 150.   93.  201.  333.  180.    1.    0.    0.    0.    0.]\n",
      " [  76.   30.   14.    3.   17.    0.    0.    0.    0.    0.]\n",
      " [  99.  953.  253.  176.  387.    0.    0.    0.    0.    0.]\n",
      " [   1.   13.    3.    3.   24.    0.    0.    0.    0.    0.]\n",
      " [ 268.    2.    3.   18.   20.    0.    0.    0.    0.    0.]]\n"
     ]
    }
   ],
   "source": [
    "usps_RF_preds = classifier2.predict(USPS_image_np)\n",
    "rf_predictor(usps_RF_preds, USPS_tar_np)"
   ]
  },
  {
   "cell_type": "markdown",
   "metadata": {},
   "source": [
    "\n",
    "\n",
    "# DNN Implementation\n",
    "\n"
   ]
  },
  {
   "cell_type": "code",
   "execution_count": 104,
   "metadata": {},
   "outputs": [],
   "source": [
    "import keras\n",
    "from keras.layers import Dense\n",
    "from keras.models import Sequential\n",
    "num_classes=10\n",
    "image_vector_size=28*28\n",
    "x_train=training_image\n",
    "y_train=training_target\n",
    "x_test= testing_image\n",
    "y_test= testing_target\n",
    "x_train = x_train.reshape(x_train.shape[0], image_vector_size)\n",
    "x_test = x_test.reshape(x_test.shape[0], image_vector_size)\n",
    "y_train = keras.utils.to_categorical(y_train, num_classes)\n",
    "y_test = keras.utils.to_categorical(y_test, num_classes)\n",
    "usps_x_test = USPS_image_np.reshape(USPS_image_np.shape[0], image_vector_size)\n",
    "usps_y_test = keras.utils.to_categorical(USPS_tar_np, num_classes)\n",
    "image_size = 784 "
   ]
  },
  {
   "cell_type": "code",
   "execution_count": 105,
   "metadata": {},
   "outputs": [
    {
     "name": "stdout",
     "output_type": "stream",
     "text": [
      "Please wait for 6-8 mins for DNN model training for epochs=30\n",
      "Train on 54000 samples, validate on 6000 samples\n",
      "Epoch 1/25\n",
      "54000/54000 [==============================] - 11s 203us/step - loss: 0.3499 - acc: 0.9020 - val_loss: 0.1548 - val_acc: 0.9577\n",
      "Epoch 2/25\n",
      "54000/54000 [==============================] - 11s 206us/step - loss: 0.1547 - acc: 0.9552 - val_loss: 0.1208 - val_acc: 0.9685\n",
      "Epoch 3/25\n",
      "54000/54000 [==============================] - 10s 188us/step - loss: 0.1084 - acc: 0.9683 - val_loss: 0.0938 - val_acc: 0.9752\n",
      "Epoch 4/25\n",
      "54000/54000 [==============================] - 11s 197us/step - loss: 0.0811 - acc: 0.9769 - val_loss: 0.0864 - val_acc: 0.9748\n",
      "Epoch 5/25\n",
      "54000/54000 [==============================] - 10s 191us/step - loss: 0.0635 - acc: 0.9815 - val_loss: 0.0798 - val_acc: 0.9782\n",
      "Epoch 6/25\n",
      "54000/54000 [==============================] - 11s 207us/step - loss: 0.0514 - acc: 0.9854 - val_loss: 0.0732 - val_acc: 0.9792\n",
      "Epoch 7/25\n",
      "54000/54000 [==============================] - 11s 208us/step - loss: 0.0412 - acc: 0.9888 - val_loss: 0.0713 - val_acc: 0.9795\n",
      "Epoch 8/25\n",
      "54000/54000 [==============================] - 11s 211us/step - loss: 0.0331 - acc: 0.9908 - val_loss: 0.0716 - val_acc: 0.9802\n",
      "Epoch 9/25\n",
      "54000/54000 [==============================] - 11s 211us/step - loss: 0.0272 - acc: 0.9930 - val_loss: 0.0711 - val_acc: 0.9782\n",
      "Epoch 10/25\n",
      "54000/54000 [==============================] - 11s 208us/step - loss: 0.0220 - acc: 0.9944 - val_loss: 0.0758 - val_acc: 0.9782\n",
      "Epoch 11/25\n",
      "54000/54000 [==============================] - 11s 204us/step - loss: 0.0186 - acc: 0.9953 - val_loss: 0.0705 - val_acc: 0.9805\n",
      "Epoch 12/25\n",
      "54000/54000 [==============================] - 11s 199us/step - loss: 0.0148 - acc: 0.9967 - val_loss: 0.0715 - val_acc: 0.9788\n",
      "Epoch 13/25\n",
      "54000/54000 [==============================] - 10s 191us/step - loss: 0.0123 - acc: 0.9974 - val_loss: 0.0693 - val_acc: 0.9815\n",
      "Epoch 14/25\n",
      "54000/54000 [==============================] - 11s 199us/step - loss: 0.0095 - acc: 0.9985 - val_loss: 0.0754 - val_acc: 0.9802\n",
      "Epoch 15/25\n",
      "54000/54000 [==============================] - 11s 198us/step - loss: 0.0082 - acc: 0.9984 - val_loss: 0.0758 - val_acc: 0.9797\n",
      "Epoch 16/25\n",
      "54000/54000 [==============================] - 11s 198us/step - loss: 0.0094 - acc: 0.9977 - val_loss: 0.0792 - val_acc: 0.9810\n",
      "Epoch 17/25\n",
      "54000/54000 [==============================] - 11s 196us/step - loss: 0.0074 - acc: 0.9986 - val_loss: 0.0803 - val_acc: 0.9823\n",
      "Epoch 18/25\n",
      "54000/54000 [==============================] - 11s 202us/step - loss: 0.0046 - acc: 0.9994 - val_loss: 0.0760 - val_acc: 0.9823\n",
      "Epoch 19/25\n",
      "54000/54000 [==============================] - 11s 196us/step - loss: 0.0033 - acc: 0.9997 - val_loss: 0.0785 - val_acc: 0.9815\n",
      "Epoch 20/25\n",
      "54000/54000 [==============================] - 10s 185us/step - loss: 0.0029 - acc: 0.9997 - val_loss: 0.0763 - val_acc: 0.9823\n",
      "Epoch 21/25\n",
      "54000/54000 [==============================] - 11s 202us/step - loss: 0.0030 - acc: 0.9995 - val_loss: 0.0881 - val_acc: 0.9802\n",
      "Epoch 22/25\n",
      "54000/54000 [==============================] - 11s 199us/step - loss: 0.0110 - acc: 0.9968 - val_loss: 0.0813 - val_acc: 0.9817\n",
      "Epoch 23/25\n",
      "54000/54000 [==============================] - 10s 193us/step - loss: 0.0031 - acc: 0.9995 - val_loss: 0.0793 - val_acc: 0.9835\n",
      "Epoch 24/25\n",
      "54000/54000 [==============================] - 11s 205us/step - loss: 0.0018 - acc: 0.9999 - val_loss: 0.0752 - val_acc: 0.9845\n",
      "Epoch 25/25\n",
      "54000/54000 [==============================] - 10s 194us/step - loss: 7.6634e-04 - acc: 1.0000 - val_loss: 0.0775 - val_acc: 0.9835\n",
      "10000/10000 [==============================] - 1s 104us/step\n",
      "Loss 0.07250655808704413\n",
      "Evaluation/testing accuracy 98.09\n"
     ]
    }
   ],
   "source": [
    "print(\"Please wait for 6-8 mins for DNN model training for epochs=30\")\n",
    "model = Sequential()\n",
    "model.add(Dense(units=200, activation='relu', input_shape=(image_size,)))\n",
    "#model.add(Dense(units=100, activation='relu'))\n",
    "model.add(Dense(units=num_classes, activation='softmax'))\n",
    "model.compile(optimizer='adam', loss='categorical_crossentropy',metrics=['accuracy'])\n",
    "history = model.fit(x_train, y_train, batch_size=128, epochs=25, verbose=True,validation_split=.1)\n",
    "loss,accuracy = model.evaluate(x_test, y_test, verbose=True)\n",
    "print(\"Loss \"+str(loss))\n",
    "print(\"Evaluation/testing accuracy \"+str(accuracy*100))"
   ]
  },
  {
   "cell_type": "code",
   "execution_count": 115,
   "metadata": {},
   "outputs": [
    {
     "name": "stdout",
     "output_type": "stream",
     "text": [
      "Total count:10000\n",
      "Correct count:9809\n",
      "Wrong count:191\n",
      "Accuracy :98.09 %\n",
      "[[ 972.    0.    1.    0.    0.    2.    3.    1.    0.    0.]\n",
      " [   0. 1125.    0.    0.    1.    0.    2.    4.    0.    2.]\n",
      " [   2.    2. 1012.    5.    5.    0.    3.   11.    2.    1.]\n",
      " [   0.    1.    1.  987.    0.    9.    1.    2.    2.    4.]\n",
      " [   0.    0.    1.    0.  958.    1.    3.    0.    4.    6.]\n",
      " [   1.    0.    0.    4.    1.  870.    4.    0.    3.    3.]\n",
      " [   2.    2.    3.    0.    3.    3.  941.    0.    1.    0.]\n",
      " [   1.    1.    3.    4.    1.    0.    0. 1003.    3.    4.]\n",
      " [   2.    4.   10.    8.    2.    5.    1.    2.  955.    3.]\n",
      " [   0.    0.    1.    2.   11.    2.    0.    5.    4.  986.]]\n"
     ]
    }
   ],
   "source": [
    "import numpy as np\n",
    "DNN_preds = model.predict(x_test)\n",
    "def dnn_tester(DNN_preds=DNN_preds, y_test=y_test):\n",
    "    wrong=0\n",
    "    correct=0\n",
    "    tot=0\n",
    "    DNN_confusion_matrix=np.zeros((10,10))\n",
    "    for ele, tar in zip(DNN_preds, y_test):\n",
    "        tot+=1\n",
    "        #print(\"Predicted: \"+str(np.argmax(ele))+\"  \"+\"Actual: \"+str(np.argmax(tar)))\n",
    "        ele=np.argmax(ele)\n",
    "        tar=np.argmax(tar)\n",
    "        #print(int(ele))\n",
    "        DNN_confusion_matrix[int(ele)][int(tar)]+=1\n",
    "        if (ele==tar):\n",
    "            correct+=1\n",
    "        else:\n",
    "            wrong+=1\n",
    "    for row in DNN_confusion_matrix:\n",
    "        for col in row:\n",
    "            col=int(col)\n",
    "    print(\"Total count:\"+str(tot))\n",
    "    print(\"Correct count:\"+str(correct))\n",
    "    print(\"Wrong count:\"+str(wrong))\n",
    "    print(\"Accuracy :\"+str((correct/tot)*100)+\" %\")        \n",
    "    np.set_printoptions(precision=0, suppress=True)\n",
    "    print(DNN_confusion_matrix)\n",
    "dnn_tester()\n",
    "\n"
   ]
  },
  {
   "cell_type": "code",
   "execution_count": 129,
   "metadata": {},
   "outputs": [
    {
     "data": {
      "image/png": "[encoded data removed]",
      "text/plain": [
       "<Figure size 720x1080 with 4 Axes>"
      ]
     },
     "metadata": {},
     "output_type": "display_data"
    }
   ],
   "source": [
    "import pandas as pd\n",
    "import matplotlib.pyplot as plt\n",
    "df_his = pd.DataFrame(history.history)\n",
    "df_his.plot(subplots=True, grid=True, figsize=(10,15))\n",
    "plt.savefig(\"NNgraph.png\")"
   ]
  },
  {
   "cell_type": "markdown",
   "metadata": {},
   "source": [
    "## USPS DNN Testing results"
   ]
  },
  {
   "cell_type": "code",
   "execution_count": 117,
   "metadata": {},
   "outputs": [
    {
     "name": "stdout",
     "output_type": "stream",
     "text": [
      "Total count:19999\n",
      "Correct count:8924\n",
      "Wrong count:11075\n",
      "Accuracy :44.62223111155558 %\n",
      "[[ 579.   25.   27.   16.    9.   21.   80.   17.  114.    7.]\n",
      " [   7.  442.    9.   29.   66.   22.   23.   63.    9.   49.]\n",
      " [ 259.  579. 1666.  346.  172.  528.  564.  272.  269.  164.]\n",
      " [ 101.   69.   59. 1235.   23.  149.   36.  212.  317.  213.]\n",
      " [  68.  177.   10.    3.  939.    9.   35.   23.  118.  101.]\n",
      " [  70.   49.   62.  247.   47. 1068.   89.   15.  182.   15.]\n",
      " [ 191.   23.   86.   17.   36.   71.  894.   16.  125.    7.]\n",
      " [ 321.  481.   41.   48.  393.   60.   67. 1201.  198.  874.]\n",
      " [ 192.   98.   30.   46.  267.   64.   22.  176.  637.  307.]\n",
      " [ 212.   57.    9.   13.   48.    8.  190.    5.   31.  263.]]\n"
     ]
    }
   ],
   "source": [
    "usps_DNN_preds = model.predict(usps_x_test)\n",
    "dnn_tester(usps_DNN_preds, usps_y_test )"
   ]
  },
  {
   "cell_type": "markdown",
   "metadata": {},
   "source": [
    "# Ensemble using Majority Voting"
   ]
  },
  {
   "cell_type": "code",
   "execution_count": 118,
   "metadata": {},
   "outputs": [
    {
     "name": "stdout",
     "output_type": "stream",
     "text": [
      "Done\n"
     ]
    }
   ],
   "source": [
    "print(\"Done\")\n",
    "from scipy import stats"
   ]
  },
  {
   "cell_type": "markdown",
   "metadata": {},
   "source": [
    "### Ensemble results for MNIST Data"
   ]
  },
  {
   "cell_type": "code",
   "execution_count": 128,
   "metadata": {},
   "outputs": [
    {
     "name": "stdout",
     "output_type": "stream",
     "text": [
      "Ensemble  Result for MNIST Data\n",
      "Total count:10000\n",
      "Correct count:9635\n",
      "Wrong count:365\n",
      "Accuracy :96.35000000000001 %\n",
      "[[ 974.    0.    6.    1.    1.    9.    7.    2.    5.    7.]\n",
      " [   0. 1127.    2.    0.    0.    2.    3.    5.    2.    7.]\n",
      " [   1.    2. 1000.   15.    6.    0.    3.   20.    7.    2.]\n",
      " [   1.    1.    4.  976.    0.   27.    1.    7.   16.   10.]\n",
      " [   0.    0.    2.    0.  960.    4.    5.    2.    5.   18.]\n",
      " [   1.    1.    1.    5.    0.  835.   10.    0.   16.    3.]\n",
      " [   1.    2.    3.    0.    3.    4.  928.    0.    7.    0.]\n",
      " [   1.    1.    7.    5.    0.    1.    0.  983.    6.   13.]\n",
      " [   1.    1.    6.    7.    2.    8.    1.    1.  905.    2.]\n",
      " [   0.    0.    1.    1.   10.    2.    0.    8.    5.  947.]]\n"
     ]
    }
   ],
   "source": [
    "# log_reg_pred, svm_1_3_pred, RF_preds, DNN_preds\n",
    "log_reg_pred_np=np.asarray(log_reg_pred)\n",
    "DNN_predss =np.array(np.argmax(DNN_preds, axis=1, out=None))\n",
    "usps_log_reg_pred_np=np.asarray(usps_log_reg_pred)\n",
    "usps_DNN_predss =np.array(np.argmax(usps_DNN_preds, axis=1, out=None))\n",
    "\n",
    "testing_target1 = testing_target.copy()\n",
    "ensemble_list= [log_reg_pred_np, svm_1_3_pred, RF_preds, DNN_predss]\n",
    "\n",
    "#ensemble_list= [usps_log_reg_pred_np, usps_svm_1_3_pred, usps_RF_preds, usps_DNN_predss]\n",
    "#testing_target1 = USPS_tar_np.copy()\n",
    "\n",
    "\n",
    "\n",
    "\n",
    "\n",
    "#ensemble_mode_val=np.zeros((10000))\n",
    "ensemble_mode_val=[]\n",
    "\n",
    "len(log_reg_pred)\n",
    "for i in range(len(log_reg_pred)):\n",
    "    cur_vec = [ensemble_list[0][i], ensemble_list[1][i], ensemble_list[2][i], ensemble_list[3][i]]\n",
    "    mode_vecc = stats.mode(cur_vec)[0]\n",
    "    #print(mode_vecc)\n",
    "    ensemble_mode_val.insert(i,(mode_vecc[0]).tolist())\n",
    "    #print(mode_vecc[0].)\n",
    "ensemble_mode_val_np=np.asarray(ensemble_mode_val)\n",
    "#print(type(ensemble_mode_val))\n",
    "#print(ensemble_mode_val_np)\n",
    "\n",
    "\n",
    "\n",
    "\n",
    "\n",
    "\n",
    "\n",
    "wrong=0\n",
    "correct=0\n",
    "tot=0\n",
    "ensemble_confusion_matrix=np.zeros((10,10))\n",
    "\n",
    "\n",
    "for ele, tar in zip(ensemble_mode_val_np[:10000], testing_target1[:10000]):\n",
    "    tot+=1\n",
    "    #print(\"Predicted: \"+str(ele)+\"  \"+\"Actual: \"+str(tar))\n",
    "    #print(int(ele))\n",
    "    ensemble_confusion_matrix[int(ele)][int(tar)]+=1\n",
    "    if (ele==tar):\n",
    "        correct+=1\n",
    "    else:\n",
    "        wrong+=1\n",
    "print(\"Ensemble  Result for MNIST Data\")\n",
    "print(\"Total count:\"+str(tot))\n",
    "print(\"Correct count:\"+str(correct))\n",
    "print(\"Wrong count:\"+str(wrong))\n",
    "print(\"Accuracy :\"+str((correct/tot)*100)+\" %\")        \n",
    "np.set_printoptions(precision=0, suppress=True)\n",
    "#rf_confusion_matrix.astype(int)\n",
    "print(ensemble_confusion_matrix)\n"
   ]
  },
  {
   "cell_type": "markdown",
   "metadata": {},
   "source": [
    "### Ensemble results for USPS Data"
   ]
  },
  {
   "cell_type": "code",
   "execution_count": 141,
   "metadata": {},
   "outputs": [
    {
     "name": "stdout",
     "output_type": "stream",
     "text": [
      "Ensemble  Result for USPS Data\n",
      "Total count:19999\n",
      "Correct count:7565\n",
      "Wrong count:12434\n",
      "Accuracy :37.82689134456723 %\n",
      "[[ 812.  148.  232.  105.   69.  197.  425.  170.  293.   51.]\n",
      " [  10.  486.   32.   19.  129.   24.   20.  263.   34.  198.]\n",
      " [ 366.  419. 1478.  345.  136.  477.  678.  342.  304.  244.]\n",
      " [  93.  270.   72. 1318.   94.  253.   46.  446.  408.  555.]\n",
      " [ 257.  239.   23.    4. 1067.   27.   63.   36.   88.  136.]\n",
      " [  93.   63.   78.  164.  106.  955.  131.   93.  502.   69.]\n",
      " [  43.   18.   26.    1.    9.   18.  585.   11.   54.    2.]\n",
      " [  97.  302.   38.   21.  224.   35.   17.  523.   56.  439.]\n",
      " [  44.   53.   13.   21.  144.   10.    3.  109.  244.  209.]\n",
      " [ 185.    2.    7.    2.   22.    4.   32.    7.   17.   97.]]\n"
     ]
    }
   ],
   "source": [
    "# log_reg_pred, svm_1_3_pred, RF_preds, DNN_preds\n",
    "log_reg_pred_np=np.asarray(log_reg_pred)\n",
    "DNN_predss =np.array(np.argmax(DNN_preds, axis=1, out=None))\n",
    "usps_log_reg_pred_np=np.asarray(usps_log_reg_pred)\n",
    "usps_DNN_predss =np.array(np.argmax(usps_DNN_preds, axis=1, out=None))\n",
    "\n",
    "#testing_target1 = testing_target.copy()\n",
    "#ensemble_list= [log_reg_pred_np, svm_1_3_pred, RF_preds, DNN_predss]\n",
    "\n",
    "ensemble_list= [usps_log_reg_pred_np, usps_svm_1_3_pred, usps_RF_preds, usps_DNN_predss]\n",
    "testing_target1 = USPS_tar_np.copy()\n",
    "\n",
    "\n",
    "\n",
    "\n",
    "\n",
    "#ensemble_mode_val=np.zeros((10000))\n",
    "ensemble_mode_val=[]\n",
    "\n",
    "len(log_reg_pred)\n",
    "for i in range(19999):\n",
    "    cur_vec = [ensemble_list[0][i], ensemble_list[1][i], ensemble_list[2][i], ensemble_list[3][i], ]\n",
    "    mode_vecc = stats.mode(cur_vec)[0]\n",
    "    #print(mode_vecc)\n",
    "    ensemble_mode_val.insert(i,(mode_vecc[0]).tolist())\n",
    "    #print(mode_vecc[0].)\n",
    "ensemble_mode_val_np=np.asarray(ensemble_mode_val)\n",
    "#print(type(ensemble_mode_val))\n",
    "#print(ensemble_mode_val_np)\n",
    "\n",
    "\n",
    "\n",
    "\n",
    "\n",
    "\n",
    "\n",
    "wrong=0\n",
    "correct=0\n",
    "tot=0\n",
    "ensemble_confusion_matrix=np.zeros((10,10))\n",
    "\n",
    "\n",
    "for ele, tar in zip(ensemble_mode_val_np, testing_target1):\n",
    "    tot+=1\n",
    "    #print(\"Predicted: \"+str(ele)+\"  \"+\"Actual: \"+str(tar))\n",
    "    #print(int(ele))\n",
    "    ensemble_confusion_matrix[int(ele)][int(tar)]+=1\n",
    "    if (ele==tar):\n",
    "        correct+=1\n",
    "    else:\n",
    "        wrong+=1\n",
    "print(\"Ensemble  Result for USPS Data\")\n",
    "print(\"Total count:\"+str(tot))\n",
    "print(\"Correct count:\"+str(correct))\n",
    "print(\"Wrong count:\"+str(wrong))\n",
    "print(\"Accuracy :\"+str((correct/tot)*100)+\" %\")        \n",
    "np.set_printoptions(precision=0, suppress=True)\n",
    "#rf_confusion_matrix.astype(int)\n",
    "print(ensemble_confusion_matrix)"
   ]
  }
 ],
 "metadata": {
  "kernelspec": {
   "display_name": "Python 3",
   "language": "python",
   "name": "python3"
  },
  "language_info": {
   "codemirror_mode": {
    "name": "ipython",
    "version": 3
   },
   "file_extension": ".py",
   "mimetype": "text/x-python",
   "name": "python",
   "nbconvert_exporter": "python",
   "pygments_lexer": "ipython3",
   "version": "3.6.5"
  }
 },
 "nbformat": 4,
 "nbformat_minor": 1
}
